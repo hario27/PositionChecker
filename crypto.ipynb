{
  "nbformat": 4,
  "nbformat_minor": 0,
  "metadata": {
    "colab": {
      "name": "crypto.ipynb",
      "provenance": [],
      "collapsed_sections": [],
      "authorship_tag": "ABX9TyNgzN7iO5Yt2+qy/aPDA0ph",
      "include_colab_link": true
    },
    "kernelspec": {
      "name": "python3",
      "display_name": "Python 3"
    }
  },
  "cells": [
    {
      "cell_type": "markdown",
      "metadata": {
        "id": "view-in-github",
        "colab_type": "text"
      },
      "source": [
        "<a href=\"https://colab.research.google.com/github/hario27/PositionChecker/blob/master/crypto.ipynb\" target=\"_parent\"><img src=\"https://colab.research.google.com/assets/colab-badge.svg\" alt=\"Open In Colab\"/></a>"
      ]
    },
    {
      "cell_type": "code",
      "metadata": {
        "colab": {
          "base_uri": "https://localhost:8080/"
        },
        "id": "4M7ZVCClcWq5",
        "outputId": "1b5dd267-48c2-4bcd-dcf2-0da196290719"
      },
      "source": [
        "import json\n",
        "import requests\n",
        "import pandas as pd\n",
        "import datetime\n",
        "import time\n",
        "import matplotlib.pyplot as plt\n",
        "\n",
        "from google.colab import drive\n",
        "drive.mount('/content/drive')"
      ],
      "execution_count": null,
      "outputs": [
        {
          "output_type": "stream",
          "text": [
            "Drive already mounted at /content/drive; to attempt to forcibly remount, call drive.mount(\"/content/drive\", force_remount=True).\n"
          ],
          "name": "stdout"
        }
      ]
    },
    {
      "cell_type": "code",
      "metadata": {
        "id": "R_ZTc0chZNxM"
      },
      "source": [
        "def crypto_watch(candle,before,size):\n",
        "    url=\"https://api.cryptowat.ch/markets/bitflyer/btcfxjpy/ohlc?periods=\"\n",
        "    candle=candle*60\n",
        "    period=(\"%s\"%(candle))\n",
        "    period=[period]\n",
        "    beforeurl=\"&before=\"\n",
        "    afterurl=\"&after=\"\n",
        "    #The maximum size of data is 6000 depending on a timing (sometimes you get less than 6000)\n",
        "    after= before-(candle*size)\n",
        "    URL=(\"%s%s%s%s%s%s\"%(url,candle,afterurl,after,beforeurl,before))\n",
        "    #e.g https://api.cryptowat.ch/markets/bitflyer/btcjpy/ohlc?periods=86400&after=1483196400\n",
        "    res=json.loads(requests.get(URL).text)[\"result\"]\n",
        "    data = []\n",
        "    for i in period:\n",
        "        row = res[i]\n",
        "        for column in row:\n",
        "            if column[4] != 0:\n",
        "                column = column[0:6]\n",
        "                data.append(column)\n",
        "    date = [price[0] for price in data]\n",
        "    priceOpen = [int(price[1]) for price in data]\n",
        "    priceHigh = [int(price[2]) for price in data]\n",
        "    priceLow = [int(price[3]) for price in data]\n",
        "    priceClose = [int(price[4]) for price in data]\n",
        "    volume = [int(price[5]) for price in data]\n",
        "    date_datetime = map(datetime.datetime.fromtimestamp, date)\n",
        "    dti = pd.DatetimeIndex(date_datetime)\n",
        "    df_candleStick = pd.DataFrame({\"Open\" : priceOpen, \"High\" : priceHigh, \"Low\": priceLow, \"Close\" : priceClose, \"Volume\" : volume}, index=dti)\n",
        "    df_candleStick[\"datetime\"] = df_candleStick.index\n",
        "    df_candleStick[\"datetime\"] = pd.to_datetime(df_candleStick[\"datetime\"], utc=True)\n",
        "    df_candleStick = df_candleStick.set_index('datetime')\n",
        "    df_candleStick['datetime'] = df_candleStick.index.tz_convert('Asia/Tokyo')\n",
        "    df_candleStick = df_candleStick.set_index('datetime')\n",
        "    return df_candleStick\n",
        "df = crypto_watch(60,round(time.time()),6000)\n",
        "df.to_csv(\"/content/drive/My Drive/Colab Notebooks/price_data/btcjpy.csv\", encoding='UTF8')"
      ],
      "execution_count": null,
      "outputs": []
    },
    {
      "cell_type": "code",
      "metadata": {
        "colab": {
          "base_uri": "https://localhost:8080/",
          "height": 446
        },
        "id": "1Hn4jn0QGrhV",
        "outputId": "948223ba-8d2d-45e6-e68a-f03758a5f869"
      },
      "source": [
        "df"
      ],
      "execution_count": null,
      "outputs": [
        {
          "output_type": "execute_result",
          "data": {
            "text/html": [
              "<div>\n",
              "<style scoped>\n",
              "    .dataframe tbody tr th:only-of-type {\n",
              "        vertical-align: middle;\n",
              "    }\n",
              "\n",
              "    .dataframe tbody tr th {\n",
              "        vertical-align: top;\n",
              "    }\n",
              "\n",
              "    .dataframe thead th {\n",
              "        text-align: right;\n",
              "    }\n",
              "</style>\n",
              "<table border=\"1\" class=\"dataframe\">\n",
              "  <thead>\n",
              "    <tr style=\"text-align: right;\">\n",
              "      <th></th>\n",
              "      <th>Open</th>\n",
              "      <th>High</th>\n",
              "      <th>Low</th>\n",
              "      <th>Close</th>\n",
              "      <th>Volume</th>\n",
              "    </tr>\n",
              "    <tr>\n",
              "      <th>datetime</th>\n",
              "      <th></th>\n",
              "      <th></th>\n",
              "      <th></th>\n",
              "      <th></th>\n",
              "      <th></th>\n",
              "    </tr>\n",
              "  </thead>\n",
              "  <tbody>\n",
              "    <tr>\n",
              "      <th>2020-07-15 22:00:00+09:00</th>\n",
              "      <td>993323</td>\n",
              "      <td>995999</td>\n",
              "      <td>993225</td>\n",
              "      <td>995315</td>\n",
              "      <td>2086</td>\n",
              "    </tr>\n",
              "    <tr>\n",
              "      <th>2020-07-15 23:00:00+09:00</th>\n",
              "      <td>995323</td>\n",
              "      <td>995493</td>\n",
              "      <td>992510</td>\n",
              "      <td>993226</td>\n",
              "      <td>2218</td>\n",
              "    </tr>\n",
              "    <tr>\n",
              "      <th>2020-07-16 00:00:00+09:00</th>\n",
              "      <td>993226</td>\n",
              "      <td>996200</td>\n",
              "      <td>992483</td>\n",
              "      <td>995763</td>\n",
              "      <td>2133</td>\n",
              "    </tr>\n",
              "    <tr>\n",
              "      <th>2020-07-16 01:00:00+09:00</th>\n",
              "      <td>995784</td>\n",
              "      <td>996771</td>\n",
              "      <td>991323</td>\n",
              "      <td>992101</td>\n",
              "      <td>3526</td>\n",
              "    </tr>\n",
              "    <tr>\n",
              "      <th>2020-07-16 02:00:00+09:00</th>\n",
              "      <td>992101</td>\n",
              "      <td>994175</td>\n",
              "      <td>991239</td>\n",
              "      <td>993515</td>\n",
              "      <td>2663</td>\n",
              "    </tr>\n",
              "    <tr>\n",
              "      <th>...</th>\n",
              "      <td>...</td>\n",
              "      <td>...</td>\n",
              "      <td>...</td>\n",
              "      <td>...</td>\n",
              "      <td>...</td>\n",
              "    </tr>\n",
              "    <tr>\n",
              "      <th>2021-03-22 17:00:00+09:00</th>\n",
              "      <td>6617166</td>\n",
              "      <td>6637355</td>\n",
              "      <td>6593015</td>\n",
              "      <td>6606253</td>\n",
              "      <td>83</td>\n",
              "    </tr>\n",
              "    <tr>\n",
              "      <th>2021-03-22 18:00:00+09:00</th>\n",
              "      <td>6607109</td>\n",
              "      <td>6616786</td>\n",
              "      <td>6503061</td>\n",
              "      <td>6538022</td>\n",
              "      <td>231</td>\n",
              "    </tr>\n",
              "    <tr>\n",
              "      <th>2021-03-22 19:00:00+09:00</th>\n",
              "      <td>6537870</td>\n",
              "      <td>6566661</td>\n",
              "      <td>6521208</td>\n",
              "      <td>6564874</td>\n",
              "      <td>79</td>\n",
              "    </tr>\n",
              "    <tr>\n",
              "      <th>2021-03-22 20:00:00+09:00</th>\n",
              "      <td>6564874</td>\n",
              "      <td>6698122</td>\n",
              "      <td>6557869</td>\n",
              "      <td>6653569</td>\n",
              "      <td>390</td>\n",
              "    </tr>\n",
              "    <tr>\n",
              "      <th>2021-03-22 21:00:00+09:00</th>\n",
              "      <td>6653048</td>\n",
              "      <td>6677829</td>\n",
              "      <td>6603888</td>\n",
              "      <td>6625942</td>\n",
              "      <td>147</td>\n",
              "    </tr>\n",
              "  </tbody>\n",
              "</table>\n",
              "<p>5975 rows × 5 columns</p>\n",
              "</div>"
            ],
            "text/plain": [
              "                              Open     High      Low    Close  Volume\n",
              "datetime                                                             \n",
              "2020-07-15 22:00:00+09:00   993323   995999   993225   995315    2086\n",
              "2020-07-15 23:00:00+09:00   995323   995493   992510   993226    2218\n",
              "2020-07-16 00:00:00+09:00   993226   996200   992483   995763    2133\n",
              "2020-07-16 01:00:00+09:00   995784   996771   991323   992101    3526\n",
              "2020-07-16 02:00:00+09:00   992101   994175   991239   993515    2663\n",
              "...                            ...      ...      ...      ...     ...\n",
              "2021-03-22 17:00:00+09:00  6617166  6637355  6593015  6606253      83\n",
              "2021-03-22 18:00:00+09:00  6607109  6616786  6503061  6538022     231\n",
              "2021-03-22 19:00:00+09:00  6537870  6566661  6521208  6564874      79\n",
              "2021-03-22 20:00:00+09:00  6564874  6698122  6557869  6653569     390\n",
              "2021-03-22 21:00:00+09:00  6653048  6677829  6603888  6625942     147\n",
              "\n",
              "[5975 rows x 5 columns]"
            ]
          },
          "metadata": {
            "tags": []
          },
          "execution_count": 36
        }
      ]
    },
    {
      "cell_type": "code",
      "metadata": {
        "colab": {
          "base_uri": "https://localhost:8080/",
          "height": 306
        },
        "id": "J2AzLwBycoOM",
        "outputId": "f1d16f6a-511d-4dc3-e75b-21ca73b59540"
      },
      "source": [
        "df[[\"Open\", \"High\", \"Close\", \"Low\"]].plot()"
      ],
      "execution_count": null,
      "outputs": [
        {
          "output_type": "execute_result",
          "data": {
            "text/plain": [
              "<matplotlib.axes._subplots.AxesSubplot at 0x7f1716c56f50>"
            ]
          },
          "metadata": {
            "tags": []
          },
          "execution_count": 37
        },
        {
          "output_type": "display_data",
          "data": {
            "image/png": "[encoded data removed]",
            "text/plain": [
              "<Figure size 432x288 with 1 Axes>"
            ]
          },
          "metadata": {
            "tags": [],
            "needs_background": "light"
          }
        }
      ]
    },
    {
      "cell_type": "code",
      "metadata": {
        "colab": {
          "base_uri": "https://localhost:8080/",
          "height": 295
        },
        "id": "-MBKR9-Zc25A",
        "outputId": "0e6f6961-c684-43ae-8ad6-ba129a62081c"
      },
      "source": [
        "df[[\"Volume\"]].plot()"
      ],
      "execution_count": null,
      "outputs": [
        {
          "output_type": "execute_result",
          "data": {
            "text/plain": [
              "<matplotlib.axes._subplots.AxesSubplot at 0x7f17165815d0>"
            ]
          },
          "metadata": {
            "tags": []
          },
          "execution_count": 38
        },
        {
          "output_type": "display_data",
          "data": {
            "image/png": "[encoded data removed]",
            "text/plain": [
              "<Figure size 432x288 with 1 Axes>"
            ]
          },
          "metadata": {
            "tags": [],
            "needs_background": "light"
          }
        }
      ]
    }
  ]
}