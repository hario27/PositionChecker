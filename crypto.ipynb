{
  "nbformat": 4,
  "nbformat_minor": 0,
  "metadata": {
    "colab": {
      "name": "crypto.ipynb",
      "provenance": [],
      "collapsed_sections": [],
      "authorship_tag": "ABX9TyPFl6bvM3xDCDoBFsQV7lE6",
      "include_colab_link": true
    },
    "kernelspec": {
      "name": "python3",
      "display_name": "Python 3"
    }
  },
  "cells": [
    {
      "cell_type": "markdown",
      "metadata": {
        "id": "view-in-github",
        "colab_type": "text"
      },
      "source": [
        "<a href=\"https://colab.research.google.com/github/hario27/PositionChecker/blob/master/crypto.ipynb\" target=\"_parent\"><img src=\"https://colab.research.google.com/assets/colab-badge.svg\" alt=\"Open In Colab\"/></a>"
      ]
    },
    {
      "cell_type": "code",
      "metadata": {
        "colab": {
          "base_uri": "https://localhost:8080/"
        },
        "id": "4M7ZVCClcWq5",
        "outputId": "e88c0a80-0309-4a57-bf92-2025401b7118"
      },
      "source": [
        "import json\n",
        "import requests\n",
        "import pandas as pd\n",
        "import datetime\n",
        "import time\n",
        "import matplotlib.pyplot as plt\n",
        "\n",
        "from google.colab import drive\n",
        "drive.mount('/content/drive')"
      ],
      "execution_count": 11,
      "outputs": [
        {
          "output_type": "stream",
          "text": [
            "Drive already mounted at /content/drive; to attempt to forcibly remount, call drive.mount(\"/content/drive\", force_remount=True).\n"
          ],
          "name": "stdout"
        }
      ]
    },
    {
      "cell_type": "code",
      "metadata": {
        "id": "R_ZTc0chZNxM"
      },
      "source": [
        "def crypto_watch(candle,before,size):\n",
        "    url=\"https://api.cryptowat.ch/markets/bitflyer/btcfxjpy/ohlc?periods=\"\n",
        "    candle=candle*60\n",
        "    period=(\"%s\"%(candle))\n",
        "    period=[period]\n",
        "    beforeurl=\"&before=\"\n",
        "    afterurl=\"&after=\"\n",
        "    #The maximum size of data is 6000 depending on a timing (sometimes you get less than 6000)\n",
        "    after= before-(candle*size)\n",
        "    URL=(\"%s%s%s%s%s%s\"%(url,candle,afterurl,after,beforeurl,before))\n",
        "    #e.g https://api.cryptowat.ch/markets/bitflyer/btcjpy/ohlc?periods=86400&after=1483196400\n",
        "    res=json.loads(requests.get(URL).text)[\"result\"]\n",
        "    data = []\n",
        "    for i in period:\n",
        "        row = res[i]\n",
        "        for column in row:\n",
        "            if column[4] != 0:\n",
        "                column = column[0:6]\n",
        "                data.append(column)\n",
        "    date = [price[0] for price in data]\n",
        "    priceOpen = [int(price[1]) for price in data]\n",
        "    priceHigh = [int(price[2]) for price in data]\n",
        "    priceLow = [int(price[3]) for price in data]\n",
        "    priceClose = [int(price[4]) for price in data]\n",
        "    volume = [int(price[5]) for price in data]\n",
        "    date_datetime = map(datetime.datetime.fromtimestamp, date)\n",
        "    dti = pd.DatetimeIndex(date_datetime)\n",
        "    df_candleStick = pd.DataFrame({\"Open\" : priceOpen, \"High\" : priceHigh, \"Low\": priceLow, \"Close\" : priceClose, \"Volume\" : volume}, index=dti)\n",
        "    df_candleStick[\"datetime\"] = df_candleStick.index\n",
        "    df_candleStick[\"datetime\"] = pd.to_datetime(df_candleStick[\"datetime\"], utc=True)\n",
        "    df_candleStick = df_candleStick.set_index('datetime')\n",
        "    df_candleStick['datetime'] = df_candleStick.index.tz_convert('Asia/Tokyo')\n",
        "    df_candleStick = df_candleStick.set_index('datetime')\n",
        "    return df_candleStick\n",
        "period = 30\n",
        "df = crypto_watch(period,round(time.time()),6000)\n",
        "df.to_csv(\"/content/drive/My Drive/Colab Notebooks/price_data/btcjpy\" + str(period) + \".csv\", encoding='UTF8')"
      ],
      "execution_count": 12,
      "outputs": []
    },
    {
      "cell_type": "code",
      "metadata": {
        "colab": {
          "base_uri": "https://localhost:8080/",
          "height": 446
        },
        "id": "1Hn4jn0QGrhV",
        "outputId": "f30a514a-811f-4e4b-a37b-f1f87eeeef90"
      },
      "source": [
        "df"
      ],
      "execution_count": 13,
      "outputs": [
        {
          "output_type": "execute_result",
          "data": {
            "text/html": [
              "<div>\n",
              "<style scoped>\n",
              "    .dataframe tbody tr th:only-of-type {\n",
              "        vertical-align: middle;\n",
              "    }\n",
              "\n",
              "    .dataframe tbody tr th {\n",
              "        vertical-align: top;\n",
              "    }\n",
              "\n",
              "    .dataframe thead th {\n",
              "        text-align: right;\n",
              "    }\n",
              "</style>\n",
              "<table border=\"1\" class=\"dataframe\">\n",
              "  <thead>\n",
              "    <tr style=\"text-align: right;\">\n",
              "      <th></th>\n",
              "      <th>Open</th>\n",
              "      <th>High</th>\n",
              "      <th>Low</th>\n",
              "      <th>Close</th>\n",
              "      <th>Volume</th>\n",
              "    </tr>\n",
              "    <tr>\n",
              "      <th>datetime</th>\n",
              "      <th></th>\n",
              "      <th></th>\n",
              "      <th></th>\n",
              "      <th></th>\n",
              "      <th></th>\n",
              "    </tr>\n",
              "  </thead>\n",
              "  <tbody>\n",
              "    <tr>\n",
              "      <th>2020-11-18 11:00:00+09:00</th>\n",
              "      <td>1860585</td>\n",
              "      <td>1866455</td>\n",
              "      <td>1857044</td>\n",
              "      <td>1866292</td>\n",
              "      <td>1733</td>\n",
              "    </tr>\n",
              "    <tr>\n",
              "      <th>2020-11-18 11:30:00+09:00</th>\n",
              "      <td>1865619</td>\n",
              "      <td>1866048</td>\n",
              "      <td>1857633</td>\n",
              "      <td>1860990</td>\n",
              "      <td>1662</td>\n",
              "    </tr>\n",
              "    <tr>\n",
              "      <th>2020-11-18 12:00:00+09:00</th>\n",
              "      <td>1861140</td>\n",
              "      <td>1864612</td>\n",
              "      <td>1855237</td>\n",
              "      <td>1858643</td>\n",
              "      <td>1639</td>\n",
              "    </tr>\n",
              "    <tr>\n",
              "      <th>2020-11-18 12:30:00+09:00</th>\n",
              "      <td>1858574</td>\n",
              "      <td>1861191</td>\n",
              "      <td>1852879</td>\n",
              "      <td>1860742</td>\n",
              "      <td>1598</td>\n",
              "    </tr>\n",
              "    <tr>\n",
              "      <th>2020-11-18 13:00:00+09:00</th>\n",
              "      <td>1860782</td>\n",
              "      <td>1897829</td>\n",
              "      <td>1859277</td>\n",
              "      <td>1893908</td>\n",
              "      <td>4227</td>\n",
              "    </tr>\n",
              "    <tr>\n",
              "      <th>...</th>\n",
              "      <td>...</td>\n",
              "      <td>...</td>\n",
              "      <td>...</td>\n",
              "      <td>...</td>\n",
              "      <td>...</td>\n",
              "    </tr>\n",
              "    <tr>\n",
              "      <th>2021-03-23 08:30:00+09:00</th>\n",
              "      <td>6267046</td>\n",
              "      <td>6295865</td>\n",
              "      <td>6223375</td>\n",
              "      <td>6257602</td>\n",
              "      <td>342</td>\n",
              "    </tr>\n",
              "    <tr>\n",
              "      <th>2021-03-23 09:00:00+09:00</th>\n",
              "      <td>6257606</td>\n",
              "      <td>6271438</td>\n",
              "      <td>6189554</td>\n",
              "      <td>6190268</td>\n",
              "      <td>265</td>\n",
              "    </tr>\n",
              "    <tr>\n",
              "      <th>2021-03-23 09:30:00+09:00</th>\n",
              "      <td>6190268</td>\n",
              "      <td>6293857</td>\n",
              "      <td>6162370</td>\n",
              "      <td>6258210</td>\n",
              "      <td>439</td>\n",
              "    </tr>\n",
              "    <tr>\n",
              "      <th>2021-03-23 10:00:00+09:00</th>\n",
              "      <td>6258051</td>\n",
              "      <td>6278965</td>\n",
              "      <td>6236999</td>\n",
              "      <td>6267290</td>\n",
              "      <td>130</td>\n",
              "    </tr>\n",
              "    <tr>\n",
              "      <th>2021-03-23 10:30:00+09:00</th>\n",
              "      <td>6267290</td>\n",
              "      <td>6290000</td>\n",
              "      <td>6247726</td>\n",
              "      <td>6288269</td>\n",
              "      <td>37</td>\n",
              "    </tr>\n",
              "  </tbody>\n",
              "</table>\n",
              "<p>5995 rows × 5 columns</p>\n",
              "</div>"
            ],
            "text/plain": [
              "                              Open     High      Low    Close  Volume\n",
              "datetime                                                             \n",
              "2020-11-18 11:00:00+09:00  1860585  1866455  1857044  1866292    1733\n",
              "2020-11-18 11:30:00+09:00  1865619  1866048  1857633  1860990    1662\n",
              "2020-11-18 12:00:00+09:00  1861140  1864612  1855237  1858643    1639\n",
              "2020-11-18 12:30:00+09:00  1858574  1861191  1852879  1860742    1598\n",
              "2020-11-18 13:00:00+09:00  1860782  1897829  1859277  1893908    4227\n",
              "...                            ...      ...      ...      ...     ...\n",
              "2021-03-23 08:30:00+09:00  6267046  6295865  6223375  6257602     342\n",
              "2021-03-23 09:00:00+09:00  6257606  6271438  6189554  6190268     265\n",
              "2021-03-23 09:30:00+09:00  6190268  6293857  6162370  6258210     439\n",
              "2021-03-23 10:00:00+09:00  6258051  6278965  6236999  6267290     130\n",
              "2021-03-23 10:30:00+09:00  6267290  6290000  6247726  6288269      37\n",
              "\n",
              "[5995 rows x 5 columns]"
            ]
          },
          "metadata": {
            "tags": []
          },
          "execution_count": 13
        }
      ]
    },
    {
      "cell_type": "code",
      "metadata": {
        "colab": {
          "base_uri": "https://localhost:8080/",
          "height": 314
        },
        "id": "J2AzLwBycoOM",
        "outputId": "5b7a316b-540e-4778-c081-b86a3adeb319"
      },
      "source": [
        "df[[\"Open\", \"High\", \"Close\", \"Low\"]].plot()"
      ],
      "execution_count": 14,
      "outputs": [
        {
          "output_type": "execute_result",
          "data": {
            "text/plain": [
              "<matplotlib.axes._subplots.AxesSubplot at 0x7f7f99b259d0>"
            ]
          },
          "metadata": {
            "tags": []
          },
          "execution_count": 14
        },
        {
          "output_type": "display_data",
          "data": {
            "image/png": "[encoded data removed]",
            "text/plain": [
              "<Figure size 432x288 with 1 Axes>"
            ]
          },
          "metadata": {
            "tags": [],
            "needs_background": "light"
          }
        }
      ]
    },
    {
      "cell_type": "code",
      "metadata": {
        "colab": {
          "base_uri": "https://localhost:8080/",
          "height": 303
        },
        "id": "-MBKR9-Zc25A",
        "outputId": "6ea40c76-0ad8-45c6-f2fc-f21a487e5692"
      },
      "source": [
        "df[[\"Volume\"]].plot()"
      ],
      "execution_count": 15,
      "outputs": [
        {
          "output_type": "execute_result",
          "data": {
            "text/plain": [
              "<matplotlib.axes._subplots.AxesSubplot at 0x7f7f9a41f2d0>"
            ]
          },
          "metadata": {
            "tags": []
          },
          "execution_count": 15
        },
        {
          "output_type": "display_data",
          "data": {
            "image/png": "[encoded data removed]",
            "text/plain": [
              "<Figure size 432x288 with 1 Axes>"
            ]
          },
          "metadata": {
            "tags": [],
            "needs_background": "light"
          }
        }
      ]
    }
  ]
}